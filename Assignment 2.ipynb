{
 "cells": [
  {
   "cell_type": "code",
   "execution_count": 1,
   "id": "3ca31984-9ef4-41d2-a360-f39021303a5f",
   "metadata": {},
   "outputs": [],
   "source": [
    "# nput: nums = [1,4,3,2]\n",
    "# Output: 4"
   ]
  },
  {
   "cell_type": "code",
   "execution_count": 8,
   "id": "29c4e1da-3abc-4be8-8e0d-727e12f8c968",
   "metadata": {},
   "outputs": [],
   "source": [
    "class Solution:\n",
    "    def arrayPairSum(self, nums):\n",
    "        nums.sort()\n",
    "        max_sum = 0\n",
    "        for i in range(0, len(nums), 2):\n",
    "            max_sum += nums[i]\n",
    "        return max_sum"
   ]
  },
  {
   "cell_type": "code",
   "execution_count": 9,
   "id": "f2228fb8-0599-4570-b5dd-0b44dd8f5eb4",
   "metadata": {},
   "outputs": [],
   "source": [
    "Ans = Solution()"
   ]
  },
  {
   "cell_type": "code",
   "execution_count": 10,
   "id": "7e47465c-685b-4822-a236-0bbbbfaaf240",
   "metadata": {},
   "outputs": [
    {
     "data": {
      "text/plain": [
       "4"
      ]
     },
     "execution_count": 10,
     "metadata": {},
     "output_type": "execute_result"
    }
   ],
   "source": [
    "Ans.arrayPairSum([1,4,3,2])"
   ]
  },
  {
   "cell_type": "code",
   "execution_count": null,
   "id": "0907c1a0-a036-44f5-b4cd-f8e992a67dca",
   "metadata": {},
   "outputs": [],
   "source": []
  },
  {
   "cell_type": "code",
   "execution_count": 11,
   "id": "15133b34-98c5-4290-a993-81cd0a3c79c3",
   "metadata": {},
   "outputs": [],
   "source": [
    "# Input: candyType = [1,1,2,2,3,3]\n",
    "# Output: 3"
   ]
  },
  {
   "cell_type": "code",
   "execution_count": 32,
   "id": "010236cf-71cb-4570-880c-980cfdbaa630",
   "metadata": {},
   "outputs": [],
   "source": [
    "class Solution1:\n",
    "    def maxCandies(self, candyType):\n",
    "        uniqueCount = len(set(candyType))\n",
    "        maxCandiesAllowed = len(candyType) // 2\n",
    "        return min(uniqueCount, maxCandiesAllowed)"
   ]
  },
  {
   "cell_type": "code",
   "execution_count": 33,
   "id": "7ad98fc1-e9fb-45bc-86ea-4b98dd52c420",
   "metadata": {},
   "outputs": [],
   "source": [
    "Ans1 = Solution1()"
   ]
  },
  {
   "cell_type": "code",
   "execution_count": 34,
   "id": "b2fb3b24-97d4-4a55-bbb0-116435407e8b",
   "metadata": {},
   "outputs": [
    {
     "data": {
      "text/plain": [
       "3"
      ]
     },
     "execution_count": 34,
     "metadata": {},
     "output_type": "execute_result"
    }
   ],
   "source": [
    "Ans1.maxCandies(candyType = [1,1,2,2,3,3])"
   ]
  },
  {
   "cell_type": "code",
   "execution_count": null,
   "id": "d822530a-0ffd-4b03-9ab2-abd4cfc1ca7a",
   "metadata": {},
   "outputs": [],
   "source": []
  },
  {
   "cell_type": "code",
   "execution_count": 35,
   "id": "39456b1f-dd58-4a6d-a140-0549299db0bb",
   "metadata": {},
   "outputs": [],
   "source": [
    "# Input: nums = [1,3,2,2,5,2,3,7]\n",
    "# Output: 5"
   ]
  },
  {
   "cell_type": "code",
   "execution_count": 50,
   "id": "6878e81d-82fd-4a87-a64f-f251ba62d6ac",
   "metadata": {},
   "outputs": [],
   "source": [
    "class Solution2:\n",
    "    def findLHS(self, nums):\n",
    "        num_counts = {}\n",
    "        max_length = 0\n",
    "\n",
    "        for num in nums:\n",
    "            if num in num_counts:\n",
    "                num_counts[num] += 1\n",
    "            else:\n",
    "                num_counts[num] = 1\n",
    "\n",
    "        for num in num_counts:\n",
    "            if num + 1 in num_counts:\n",
    "                length = num_counts[num] + num_counts[num + 1]\n",
    "                max_length = max(max_length, length)\n",
    "\n",
    "        return max_length"
   ]
  },
  {
   "cell_type": "code",
   "execution_count": 52,
   "id": "53130180-43b9-4374-9f8f-170e2253479b",
   "metadata": {},
   "outputs": [],
   "source": [
    "Ans2 = Solution2()"
   ]
  },
  {
   "cell_type": "code",
   "execution_count": 54,
   "id": "fa2c5851-cecf-4302-b739-815df8fd33c6",
   "metadata": {},
   "outputs": [
    {
     "data": {
      "text/plain": [
       "5"
      ]
     },
     "execution_count": 54,
     "metadata": {},
     "output_type": "execute_result"
    }
   ],
   "source": [
    "Ans2.findLHS(nums = [1,3,2,2,5,2,3,7])"
   ]
  },
  {
   "cell_type": "code",
   "execution_count": null,
   "id": "f682374a-7ad3-433d-a4c8-00b45f19b4ef",
   "metadata": {},
   "outputs": [],
   "source": []
  },
  {
   "cell_type": "code",
   "execution_count": 55,
   "id": "be7b9876-d81e-4449-b32d-d1c64cdca3fc",
   "metadata": {},
   "outputs": [],
   "source": [
    "# Input: flowerbed = [1,0,0,0,1], n = 1\n",
    "# Output: true"
   ]
  },
  {
   "cell_type": "code",
   "execution_count": 67,
   "id": "a23a5c19-7b5d-4f61-b673-6365a1bc89fe",
   "metadata": {},
   "outputs": [],
   "source": [
    "class Solution3:\n",
    "    def flowers(self, flowerbed, n):\n",
    "        count = 0\n",
    "        length = len(flowerbed)\n",
    "        \n",
    "        for i in range(length):\n",
    "            if flowerbed[i] == 0 and (i == 0 or flowerbed[i-1] == 0) and (i == length-1 or flowerbed[i+1] == 0):\n",
    "                flowerbed[i] = 1\n",
    "                count += 1\n",
    "        \n",
    "        return count >= n"
   ]
  },
  {
   "cell_type": "code",
   "execution_count": 68,
   "id": "2281d0c7-09c2-47f8-a6b1-51254a5a48f8",
   "metadata": {},
   "outputs": [],
   "source": [
    "Ans3 = Solution3()"
   ]
  },
  {
   "cell_type": "code",
   "execution_count": 74,
   "id": "21524789-69b5-4a58-9707-fe34ad21b481",
   "metadata": {},
   "outputs": [
    {
     "data": {
      "text/plain": [
       "True"
      ]
     },
     "execution_count": 74,
     "metadata": {},
     "output_type": "execute_result"
    }
   ],
   "source": [
    "Ans3.flowers([1,0,0,0,1],1)"
   ]
  },
  {
   "cell_type": "code",
   "execution_count": null,
   "id": "55bb1eeb-8ff8-4a30-bdbb-8c719c5399d4",
   "metadata": {},
   "outputs": [],
   "source": []
  },
  {
   "cell_type": "code",
   "execution_count": 76,
   "id": "0e2479eb-83a4-4e21-9436-9f15b9bd2ceb",
   "metadata": {},
   "outputs": [],
   "source": [
    "# Input: nums = [1,2,3]\n",
    "# Output: 6"
   ]
  },
  {
   "cell_type": "code",
   "execution_count": 84,
   "id": "0f012bdc-899b-4aa4-b6f4-e78bfb766950",
   "metadata": {},
   "outputs": [],
   "source": [
    "class Solution4:\n",
    "    def maxProduct(self, nums):\n",
    "        if len(nums) <= 2:\n",
    "            return nums[0] * nums[1]\n",
    "        \n",
    "        nums.sort()\n",
    "        n = len(nums)\n",
    "        return max(nums[n-1] * nums[n-2] * nums[n-3], nums[0] * nums[1] * nums[n-1])\n"
   ]
  },
  {
   "cell_type": "code",
   "execution_count": 85,
   "id": "5cd4c7d1-7807-48d5-b4e8-f596bff57a40",
   "metadata": {},
   "outputs": [],
   "source": [
    "Ans4 = Solution4()"
   ]
  },
  {
   "cell_type": "code",
   "execution_count": 92,
   "id": "ea25277f-bb46-46de-8751-b16e13d50426",
   "metadata": {},
   "outputs": [
    {
     "data": {
      "text/plain": [
       "6"
      ]
     },
     "execution_count": 92,
     "metadata": {},
     "output_type": "execute_result"
    }
   ],
   "source": [
    "Ans4.maxProduct([1,2,3,-1])"
   ]
  },
  {
   "cell_type": "code",
   "execution_count": null,
   "id": "887649e0-dd4b-4ac5-8f47-2e56a132f377",
   "metadata": {},
   "outputs": [],
   "source": []
  },
  {
   "cell_type": "code",
   "execution_count": 94,
   "id": "560a842e-750d-410f-905d-e01bc3ffe7a8",
   "metadata": {},
   "outputs": [],
   "source": [
    "# Input: nums = [-1,0,3,5,9,12], target = 9\n",
    "# Output: 4\n"
   ]
  },
  {
   "cell_type": "code",
   "execution_count": 104,
   "id": "b95a6f3e-4b6e-45d3-89a1-77d27794bccc",
   "metadata": {},
   "outputs": [],
   "source": [
    "class Solution5:\n",
    "    def search(self, nums, target):\n",
    "        left = 0\n",
    "        right = len(nums) - 1\n",
    "\n",
    "        while left <= right:\n",
    "            mid = left + (right - left) // 2\n",
    "\n",
    "            if nums[mid] == target:\n",
    "                return mid\n",
    "            elif nums[mid] < target:\n",
    "                left = mid + 1\n",
    "            else:\n",
    "                right = mid - 1\n",
    "\n",
    "        return -1"
   ]
  },
  {
   "cell_type": "code",
   "execution_count": 105,
   "id": "401d85cf-29b3-43b0-b847-65686dabe6c5",
   "metadata": {},
   "outputs": [],
   "source": [
    "Ans5 = Solution5()"
   ]
  },
  {
   "cell_type": "code",
   "execution_count": 108,
   "id": "aa78904a-2e50-4c9f-85ec-61f5278a0986",
   "metadata": {},
   "outputs": [
    {
     "data": {
      "text/plain": [
       "4"
      ]
     },
     "execution_count": 108,
     "metadata": {},
     "output_type": "execute_result"
    }
   ],
   "source": [
    "Ans5.search([-1,0,3,5,9,12],9)"
   ]
  },
  {
   "cell_type": "code",
   "execution_count": null,
   "id": "34118a8a-7ebb-4121-8519-381568258e01",
   "metadata": {},
   "outputs": [],
   "source": []
  },
  {
   "cell_type": "code",
   "execution_count": 109,
   "id": "c2e057ed-3556-4c9e-b83d-66a728d74815",
   "metadata": {},
   "outputs": [],
   "source": [
    "# Input: nums = [1,2,2,3]\n",
    "# Output: true"
   ]
  },
  {
   "cell_type": "code",
   "execution_count": 117,
   "id": "bc58cc2e-a65d-4b3b-89f5-996a82ceb4ff",
   "metadata": {},
   "outputs": [],
   "source": [
    "class Solution6:\n",
    "    def isMonotonic(self, nums):\n",
    "        isIncreasing = True\n",
    "        isDecreasing = True\n",
    "\n",
    "        for i in range(1, len(nums)):\n",
    "            if nums[i] < nums[i-1]:\n",
    "                isIncreasing = False\n",
    "            if nums[i] > nums[i-1]:\n",
    "                isDecreasing = False\n",
    "\n",
    "        return isIncreasing or isDecreasing"
   ]
  },
  {
   "cell_type": "code",
   "execution_count": 118,
   "id": "515cf276-e56e-4462-b6c0-ecc33e3cca9c",
   "metadata": {},
   "outputs": [],
   "source": [
    "Ans6 = Solution6()"
   ]
  },
  {
   "cell_type": "code",
   "execution_count": 122,
   "id": "c1fbdd48-16eb-4bfe-b10e-d1b2dd61fb3b",
   "metadata": {},
   "outputs": [
    {
     "data": {
      "text/plain": [
       "True"
      ]
     },
     "execution_count": 122,
     "metadata": {},
     "output_type": "execute_result"
    }
   ],
   "source": [
    "Ans6.isMonotonic([1,2,2,3])"
   ]
  },
  {
   "cell_type": "code",
   "execution_count": null,
   "id": "dd1db569-7f19-4763-b7e1-a5b1cd86db78",
   "metadata": {},
   "outputs": [],
   "source": []
  },
  {
   "cell_type": "code",
   "execution_count": 123,
   "id": "740957f9-1d9f-44cd-b886-e791012e0145",
   "metadata": {},
   "outputs": [],
   "source": [
    "# Example 1:\n",
    "# Input: nums = [1], k = 0\n",
    "# Output: 0"
   ]
  },
  {
   "cell_type": "code",
   "execution_count": 141,
   "id": "1fb61ae9-60d2-4bb9-981b-948b24500714",
   "metadata": {},
   "outputs": [],
   "source": [
    "class Solution7:\n",
    "    def minimumScore(self, nums, k):\n",
    "        minimum = min(nums)\n",
    "        maximum = max(nums)\n",
    "        initial_score = maximum - minimum\n",
    "        \n",
    "        if k >= initial_score:\n",
    "            return 0\n",
    "        \n",
    "        potential_minimum = minimum + k\n",
    "        potential_maximum = maximum - k\n",
    "        potential_score = potential_maximum - potential_minimum\n",
    "        \n",
    "        return min(initial_score, potential_score)"
   ]
  },
  {
   "cell_type": "code",
   "execution_count": 142,
   "id": "28948b79-9702-4200-b66c-53db41083e40",
   "metadata": {},
   "outputs": [],
   "source": [
    "Ans7 = Solution7()"
   ]
  },
  {
   "cell_type": "code",
   "execution_count": 146,
   "id": "830d67d1-9202-4fdc-ac00-523da313a38d",
   "metadata": {},
   "outputs": [
    {
     "data": {
      "text/plain": [
       "1"
      ]
     },
     "execution_count": 146,
     "metadata": {},
     "output_type": "execute_result"
    }
   ],
   "source": [
    "Ans7.minimumScore([1,2],0)"
   ]
  },
  {
   "cell_type": "code",
   "execution_count": null,
   "id": "036755ce-b475-45f9-b956-bc7960144c30",
   "metadata": {},
   "outputs": [],
   "source": []
  }
 ],
 "metadata": {
  "kernelspec": {
   "display_name": "Python 3 (ipykernel)",
   "language": "python",
   "name": "python3"
  },
  "language_info": {
   "codemirror_mode": {
    "name": "ipython",
    "version": 3
   },
   "file_extension": ".py",
   "mimetype": "text/x-python",
   "name": "python",
   "nbconvert_exporter": "python",
   "pygments_lexer": "ipython3",
   "version": "3.10.6"
  }
 },
 "nbformat": 4,
 "nbformat_minor": 5
}
