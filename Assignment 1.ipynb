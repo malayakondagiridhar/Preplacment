{
 "cells": [
  {
   "cell_type": "code",
   "execution_count": 1,
   "id": "d44e0bcb-5346-439c-8687-11365bda2c02",
   "metadata": {},
   "outputs": [],
   "source": [
    "# Example 1:\n",
    "# Input: nums = [2,7,11,15], target = 9\n",
    "# Output0 [0,1]"
   ]
  },
  {
   "cell_type": "code",
   "execution_count": 2,
   "id": "5730476f-332a-4454-afdf-7a2b74797f71",
   "metadata": {},
   "outputs": [],
   "source": [
    "class Solution:\n",
    "    def twoSum(self, nums, target):\n",
    "        y = {}\n",
    "        for i, num in enumerate(nums):\n",
    "            potentialMatch = target - num\n",
    "            if potentialMatch in y:\n",
    "                return [y[potentialMatch], i]\n",
    "            else:\n",
    "                y[num] = i"
   ]
  },
  {
   "cell_type": "code",
   "execution_count": 3,
   "id": "5e9260df-5a78-41f7-bb69-56abba3587e4",
   "metadata": {},
   "outputs": [],
   "source": [
    "ans = Solution()"
   ]
  },
  {
   "cell_type": "code",
   "execution_count": 6,
   "id": "05e89f68-e9d8-46b1-85ea-2f096205a5de",
   "metadata": {},
   "outputs": [
    {
     "data": {
      "text/plain": [
       "[0, 1]"
      ]
     },
     "execution_count": 6,
     "metadata": {},
     "output_type": "execute_result"
    }
   ],
   "source": [
    "ans.twoSum([2,7,11,15],9)"
   ]
  },
  {
   "cell_type": "code",
   "execution_count": null,
   "id": "2f3b5576-53b7-4bc4-b5ce-ca2fdaaa30d6",
   "metadata": {},
   "outputs": [],
   "source": []
  },
  {
   "cell_type": "code",
   "execution_count": 8,
   "id": "c177e8d2-d086-48b2-bf5f-52331f6ec2a2",
   "metadata": {},
   "outputs": [],
   "source": [
    "# Example :\n",
    "# Input: nums = [3,2,2,3], val = 3\n",
    "# Output: 2, nums = [2,2,_,_]"
   ]
  },
  {
   "cell_type": "code",
   "execution_count": 74,
   "id": "39758d0d-e85a-4f33-9d8e-2566b13eaa48",
   "metadata": {},
   "outputs": [
    {
     "data": {
      "text/plain": [
       "4"
      ]
     },
     "execution_count": 74,
     "metadata": {},
     "output_type": "execute_result"
    }
   ],
   "source": [
    "class Solution1:\n",
    "    def removeElement(self, nums, val: int):\n",
    "        k = 0\n",
    "\n",
    "        for i in range(len(nums)):\n",
    "            if nums[i] != val:\n",
    "                nums[k] = nums[i]\n",
    "                k += 1\n",
    "        \n",
    "        return k\n",
    "\n",
    "ans1 = Solution1()\n",
    "ans1.removeElement([3, 2, 3, 2,6,7], 3)\n"
   ]
  },
  {
   "cell_type": "code",
   "execution_count": null,
   "id": "f3825566-297b-4ed1-8d9a-fa0c1bfce397",
   "metadata": {},
   "outputs": [],
   "source": [
    "# Input: nums = [1,3,5,6], target = 5\n",
    "\n",
    "# Output: 2"
   ]
  },
  {
   "cell_type": "code",
   "execution_count": 78,
   "id": "dda7ce9f-2557-4ec1-b57f-99518fcbd43b",
   "metadata": {},
   "outputs": [
    {
     "data": {
      "text/plain": [
       "2"
      ]
     },
     "execution_count": 78,
     "metadata": {},
     "output_type": "execute_result"
    }
   ],
   "source": [
    "class Solution2:\n",
    "    def searchInsert(self, nums, target):\n",
    "        low, high = 0, len(nums) - 1\n",
    "        \n",
    "        while low <= high:\n",
    "            mid = (low + high) // 2\n",
    "            \n",
    "            if nums[mid] == target:\n",
    "                return mid\n",
    "            elif nums[mid] < target:\n",
    "                low = mid + 1\n",
    "            else:\n",
    "                high = mid - 1\n",
    "        \n",
    "        return low\n",
    "\n",
    "ans2 = Solution2()\n",
    "ans2.searchInsert([1,3,5,6],5)"
   ]
  },
  {
   "cell_type": "code",
   "execution_count": 82,
   "id": "e612845d-3cd3-479a-bb54-bd66d9911216",
   "metadata": {},
   "outputs": [],
   "source": [
    "# Input: digits = [1,2,3]\n",
    "# Output: [1,2,4]"
   ]
  },
  {
   "cell_type": "code",
   "execution_count": 81,
   "id": "8cf8e19b-61ec-4c55-8535-bf9a275e1454",
   "metadata": {},
   "outputs": [
    {
     "data": {
      "text/plain": [
       "[1, 2, 4]"
      ]
     },
     "execution_count": 81,
     "metadata": {},
     "output_type": "execute_result"
    }
   ],
   "source": [
    "class Solution3:\n",
    "    def plusOne(self, digits):\n",
    "        one = 1\n",
    "        i = 0\n",
    "        digits = digits[::-1]\n",
    "\n",
    "        while one:\n",
    "            if i < len(digits):\n",
    "                if digits[i] == 9:\n",
    "                    digits[i] = 0\n",
    "                else:\n",
    "                    digits[i] += 1\n",
    "                    one = 0\n",
    "            else:\n",
    "                digits.append(one)\n",
    "                one = 0\n",
    "            i += 1\n",
    "        return digits[::-1]\n",
    "\n",
    "ans3 = Solution3()\n",
    "ans3.plusOne([1,2,3])"
   ]
  },
  {
   "cell_type": "code",
   "execution_count": null,
   "id": "6a0fe64b-ab3a-40f2-b67f-7f8a23a8703a",
   "metadata": {},
   "outputs": [],
   "source": []
  },
  {
   "cell_type": "code",
   "execution_count": 2,
   "id": "b4307f84-9628-446d-867c-f85f14ce1f70",
   "metadata": {},
   "outputs": [],
   "source": [
    "# Input: nums1 = [1,2,3,0,0,0], m = 3, nums2 = [2,5,6], n = 3\n",
    "#  Output: [1,2,2,3,5,6]"
   ]
  },
  {
   "cell_type": "code",
   "execution_count": 17,
   "id": "9d967623-b6a5-4368-92e0-e683832e1d4d",
   "metadata": {},
   "outputs": [],
   "source": [
    "class Solution4:\n",
    "    def merge(self, nums1, m, nums2, n):\n",
    "        p1 = m - 1  # Pointer for the last element in nums1\n",
    "        p2 = n - 1  # Pointer for the last element in nums2\n",
    "        p = m + n - 1  # Pointer for the last position in nums1 (merged array)\n",
    "\n",
    "        # Merge the arrays from the end (right to left)\n",
    "        while p1 >= 0 and p2 >= 0:\n",
    "            if nums1[p1] > nums2[p2]:\n",
    "                nums1[p] = nums1[p1]\n",
    "                p1 -= 1\n",
    "            else:\n",
    "                nums1[p] = nums2[p2]\n",
    "                p2 -= 1\n",
    "            p -= 1\n",
    "\n",
    "        # Add any remaining elements from nums2 to nums1\n",
    "        while p2 >= 0:\n",
    "            nums1[p] = nums2[p2]\n",
    "            p2 -= 1\n",
    "            p -= 1\n",
    "        return nums1\n",
    "\n",
    "\n",
    "\n",
    "\n",
    "\n"
   ]
  },
  {
   "cell_type": "code",
   "execution_count": 18,
   "id": "addd1536-a2d2-453d-9fb7-ab6724c030e8",
   "metadata": {},
   "outputs": [],
   "source": [
    "ans4 = Solution4()"
   ]
  },
  {
   "cell_type": "code",
   "execution_count": 21,
   "id": "60676906-5a76-4660-8f4e-1a562d4a7275",
   "metadata": {},
   "outputs": [
    {
     "data": {
      "text/plain": [
       "[1, 2, 2, 3, 5, 6]"
      ]
     },
     "execution_count": 21,
     "metadata": {},
     "output_type": "execute_result"
    }
   ],
   "source": [
    "ans4.merge([1,2,3,0,0,0], 3,  [2,5,6], 3)"
   ]
  },
  {
   "cell_type": "code",
   "execution_count": null,
   "id": "7d5958eb-bb9f-411b-b533-8b9867ded35a",
   "metadata": {},
   "outputs": [],
   "source": []
  },
  {
   "cell_type": "code",
   "execution_count": null,
   "id": "521a9936-4d88-4db5-a94d-a371323f4293",
   "metadata": {},
   "outputs": [],
   "source": [
    "# Input: nums = [1,2,3,1]\n",
    "\n",
    "# Output: true"
   ]
  },
  {
   "cell_type": "code",
   "execution_count": 24,
   "id": "01d68234-91bd-420a-a87d-aae213e10be2",
   "metadata": {},
   "outputs": [],
   "source": [
    "class Solution5:\n",
    "    def containsDuplicate(self, nums):\n",
    "        # Create an empty set to store unique values\n",
    "        unique_values = set()\n",
    "        \n",
    "        # Iterate over each element in the array\n",
    "        for num in nums:\n",
    "            # If the element already exists in the set, it's a duplicate\n",
    "            if num in unique_values:\n",
    "                return True\n",
    "            # Otherwise, add the element to the set\n",
    "            else:\n",
    "                unique_values.add(num)\n",
    "        \n",
    "        # No duplicates found\n",
    "        return False"
   ]
  },
  {
   "cell_type": "code",
   "execution_count": 25,
   "id": "0dbfc24f-c8f8-40db-85e6-002636980727",
   "metadata": {},
   "outputs": [],
   "source": [
    "ans5 = Solution5()"
   ]
  },
  {
   "cell_type": "code",
   "execution_count": 27,
   "id": "443bf611-fe13-46e7-bc6a-4bc0fa01d582",
   "metadata": {},
   "outputs": [
    {
     "data": {
      "text/plain": [
       "True"
      ]
     },
     "execution_count": 27,
     "metadata": {},
     "output_type": "execute_result"
    }
   ],
   "source": [
    "ans5.containsDuplicate(nums = [1,2,3,1])"
   ]
  },
  {
   "cell_type": "code",
   "execution_count": null,
   "id": "b9f62bc5-c928-486b-b98d-6570b66c3e73",
   "metadata": {},
   "outputs": [],
   "source": []
  },
  {
   "cell_type": "code",
   "execution_count": 1,
   "id": "5809b85a-69ee-400e-9c4d-a3218636a4ef",
   "metadata": {},
   "outputs": [],
   "source": [
    "# Input: nums = [0,1,0,3,12]\n",
    "# Output: [1,3,12,0,0]"
   ]
  },
  {
   "cell_type": "code",
   "execution_count": 31,
   "id": "a7f8eb0b-977a-4d65-b75a-0dbbebbfa0e1",
   "metadata": {},
   "outputs": [],
   "source": [
    "class Solution6:\n",
    "    def moveZeroes(self, nums) :\n",
    "        left = 0\n",
    "        right = 0\n",
    "        \n",
    "        while right < len(nums):\n",
    "            if nums[right] != 0:\n",
    "                nums[left] = nums[right]\n",
    "                left += 1\n",
    "            \n",
    "            right += 1\n",
    "    \n",
    "        while left < len(nums):\n",
    "            nums[left] = 0\n",
    "            left += 1\n",
    "            \n",
    "        return nums\n"
   ]
  },
  {
   "cell_type": "code",
   "execution_count": 32,
   "id": "f7826ede-8329-4b76-ad2b-2b430efc3395",
   "metadata": {},
   "outputs": [],
   "source": [
    "ans6 = Solution6()"
   ]
  },
  {
   "cell_type": "code",
   "execution_count": 33,
   "id": "c5e27e8e-93f2-494d-a7fc-c08d30fa3fb1",
   "metadata": {},
   "outputs": [
    {
     "data": {
      "text/plain": [
       "[1, 3, 12, 0, 0]"
      ]
     },
     "execution_count": 33,
     "metadata": {},
     "output_type": "execute_result"
    }
   ],
   "source": [
    "ans6.moveZeroes([0,1,0,3,12])"
   ]
  },
  {
   "cell_type": "code",
   "execution_count": null,
   "id": "6d64b0a5-46a9-4eca-b797-a18708e23177",
   "metadata": {},
   "outputs": [],
   "source": []
  },
  {
   "cell_type": "code",
   "execution_count": null,
   "id": "91863e94-c24b-458e-8a2f-53477b6e7663",
   "metadata": {},
   "outputs": [],
   "source": [
    "Input: nums = [1,2,2,4]\n",
    "Output: [2,3]"
   ]
  },
  {
   "cell_type": "code",
   "execution_count": 34,
   "id": "5e2a8034-3905-4f63-ab0c-947a96254c94",
   "metadata": {},
   "outputs": [],
   "source": [
    "class Solution7:\n",
    "    def findErrorNums(self, nums):\n",
    "        n = len(nums)\n",
    "        num_set = set()\n",
    "        duplicate = -1\n",
    "        missing = -1\n",
    "        \n",
    "        for num in nums:\n",
    "            if num in num_set:\n",
    "                duplicate = num\n",
    "            num_set.add(num)\n",
    "            \n",
    "        for i in range(1, n+1):\n",
    "            if i not in num_set:\n",
    "                missing = i\n",
    "                break\n",
    "        \n",
    "        return [duplicate, missing]\n"
   ]
  },
  {
   "cell_type": "code",
   "execution_count": 35,
   "id": "a2ade6cc-d0cb-41b1-820f-5ffdb320fbc9",
   "metadata": {},
   "outputs": [],
   "source": [
    "ans7 = Solution7()"
   ]
  },
  {
   "cell_type": "code",
   "execution_count": null,
   "id": "1304c988-cc09-41e4-a489-9b9a11cd969b",
   "metadata": {},
   "outputs": [],
   "source": [
    "ans7.findErrorNums()"
   ]
  }
 ],
 "metadata": {
  "kernelspec": {
   "display_name": "Python 3 (ipykernel)",
   "language": "python",
   "name": "python3"
  },
  "language_info": {
   "codemirror_mode": {
    "name": "ipython",
    "version": 3
   },
   "file_extension": ".py",
   "mimetype": "text/x-python",
   "name": "python",
   "nbconvert_exporter": "python",
   "pygments_lexer": "ipython3",
   "version": "3.10.6"
  }
 },
 "nbformat": 4,
 "nbformat_minor": 5
}
